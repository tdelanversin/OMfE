{
 "cells": [
  {
   "cell_type": "code",
   "execution_count": 21,
   "metadata": {},
   "outputs": [
    {
     "name": "stdout",
     "output_type": "stream",
     "text": [
      "The autoreload extension is already loaded. To reload it, use:\n",
      "  %reload_ext autoreload\n"
     ]
    }
   ],
   "source": [
    "%load_ext autoreload\n",
    "%autoreload 2\n",
    "\n",
    "import graphics\n",
    "import AntColonyOptimization as aco\n",
    "import numpy as np\n",
    "import matplotlib.pyplot as plt\n",
    "import random"
   ]
  },
  {
   "cell_type": "code",
   "execution_count": 22,
   "metadata": {},
   "outputs": [],
   "source": [
    "window_size = 1500, 1000\n",
    "number_of_nodes = 30\n",
    "\n",
    "coordinates = np.array([1,1])\n",
    "while len(np.unique(coordinates, axis=0)) != len(coordinates):\n",
    "    x_coordinates = np.random.randint(0, window_size[0], size=30)\n",
    "    y_coordinates = np.random.randint(0, window_size[1], size=30)\n",
    "    coordinates = np.stack((x_coordinates, y_coordinates), axis=1)\n",
    "\n",
    "distance_graph = np.zeros((number_of_nodes, number_of_nodes))\n",
    "for i in range(number_of_nodes):\n",
    "    for j in range(number_of_nodes):\n",
    "        distance_graph[i,j] = np.linalg.norm(coordinates[i] - coordinates[j])\n",
    "    \n",
    "pheromone_graph = np.ones((number_of_nodes, number_of_nodes))\n",
    "\n",
    "win = graphics.GraphWin(\"Ant Colony optimization\", *window_size)\n",
    "for coordinate in coordinates:\n",
    "    c = graphics.Circle(graphics.Point(*coordinate), 4)\n",
    "    c.setFill('black')\n",
    "    c.draw(win)\n",
    "win.getMouse()\n",
    "win.close()"
   ]
  },
  {
   "cell_type": "code",
   "execution_count": 23,
   "metadata": {},
   "outputs": [],
   "source": [
    "win = graphics.GraphWin(\"Distances\", *window_size)\n",
    "win.setBackground('white')\n",
    "try:\n",
    "    for i in range(number_of_nodes):\n",
    "        r = graphics.Rectangle(graphics.Point(0,0), graphics.Point(window_size[0], window_size[1]))\n",
    "        r.setFill('white')\n",
    "        r.draw(win)\n",
    "        for j in range(number_of_nodes):\n",
    "            l = graphics.Line(graphics.Point(*coordinates[i]), graphics.Point(*coordinates[j]))\n",
    "            l.setFill('red')\n",
    "            l.draw(win)\n",
    "\n",
    "            x, y = coordinates[j][0], coordinates[j][1]\n",
    "            d = graphics.Text(graphics.Point(x, y-20), str(distance_graph[i,j].astype(\"int\")))\n",
    "            d.setTextColor('blue')\n",
    "            d.setSize(18)\n",
    "            d.setStyle(\"bold\")\n",
    "            d.draw(win)\n",
    "        for coordinate in coordinates:\n",
    "            c = graphics.Circle(graphics.Point(*coordinate), 6)\n",
    "            c.setFill('black')\n",
    "            c.draw(win)\n",
    "        win.getMouse()\n",
    "except:\n",
    "    pass\n",
    "finally:\n",
    "    win.close()"
   ]
  },
  {
   "cell_type": "code",
   "execution_count": 39,
   "metadata": {},
   "outputs": [],
   "source": [
    "max_path = None\n",
    "max_path_no_length_check = None\n",
    "\n",
    "def update_max_path_no_length_check(win):\n",
    "    global max_path_no_length_check\n",
    "    new_max_path = aco.get_max_path(pheromone_graph, distance_graph)\n",
    "    if max_path_no_length_check is None or (max_path_no_length_check != new_max_path).any():\n",
    "        max_path_no_length_check = new_max_path\n",
    "        draw_path(win, max_path_no_length_check)\n",
    "\n",
    "def update_max_path(win):\n",
    "    global max_path\n",
    "    new_max_path = aco.get_max_path(pheromone_graph, distance_graph)\n",
    "    if max_path is None or \\\n",
    "        (max_path != new_max_path).any() and \\\n",
    "        np.sum(distance_graph[new_max_path[:-1], new_max_path[1:]]) \\\n",
    "            < np.sum(distance_graph[max_path[:-1], max_path[1:]]):\n",
    "\n",
    "        max_path = new_max_path\n",
    "        draw_path(win, max_path)\n",
    "\n",
    "def draw_path(win, path):\n",
    "    r = graphics.Rectangle(graphics.Point(0, 0), graphics.Point(window_size[0], window_size[1]))\n",
    "    r.setFill('white')\n",
    "    r.draw(win)\n",
    "\n",
    "    for i in range(number_of_nodes):\n",
    "        c = graphics.Circle(graphics.Point(*coordinates[path[i]]), 6)\n",
    "        c.setFill('black')\n",
    "        c.draw(win)\n",
    "\n",
    "    for i in range(len(path)-1):\n",
    "        l = graphics.Line(graphics.Point(*coordinates[path[i]]), graphics.Point(*coordinates[path[i+1]]))\n",
    "        l.setFill('red')\n",
    "        l.draw(win)\n",
    "\n",
    "    t = graphics.Text(graphics.Point(window_size[0]/2, window_size[1]/2),\n",
    "            str(np.sum(distance_graph[path[:-1], path[1:]]).astype(\"int\")))\n",
    "\n",
    "    t.setTextColor('blue')\n",
    "    t.setSize(18)\n",
    "    t.setStyle(\"bold\")\n",
    "    t.draw(win)\n",
    "\n",
    "import sys\n",
    "def progress(count, total, status=''):\n",
    "    bar_len = 50\n",
    "    filled_len = int(round(bar_len * count / float(total)))\n",
    "\n",
    "    percents = round(100.0 * count / float(total), 1)\n",
    "    bar = '█' * filled_len + ' ' * (bar_len - filled_len)\n",
    "\n",
    "    sys.stdout.write('[%s] %s%s ...%s\\r' % (bar, percents, '%', status))\n",
    "    sys.stdout.flush()"
   ]
  },
  {
   "cell_type": "code",
   "execution_count": 72,
   "metadata": {},
   "outputs": [
    {
     "name": "stdout",
     "output_type": "stream",
     "text": [
      "[██████████████████████████████████████████████████] 100.0% ...Done\r"
     ]
    },
    {
     "name": "stderr",
     "output_type": "stream",
     "text": [
      "/tmp/ipykernel_4180/1269300534.py:48: RuntimeWarning: divide by zero encountered in divide\n",
      "  plt.matshow(1/distance_graph)\n"
     ]
    },
    {
     "data": {
      "text/plain": [
       "<matplotlib.image.AxesImage at 0x7f9d30bb2b60>"
      ]
     },
     "execution_count": 72,
     "metadata": {},
     "output_type": "execute_result"
    },
    {
     "data": {
      "image/png": "[encoded data removed]",
      "text/plain": [
       "<Figure size 288x288 with 1 Axes>"
      ]
     },
     "metadata": {
      "needs_background": "light"
     },
     "output_type": "display_data"
    },
    {
     "data": {
      "image/png": "[encoded data removed]",
      "text/plain": [
       "<Figure size 288x288 with 1 Axes>"
      ]
     },
     "metadata": {
      "needs_background": "light"
     },
     "output_type": "display_data"
    }
   ],
   "source": [
    "win = graphics.GraphWin(\"Optimizing, only max\", *window_size)\n",
    "win_no_length_check = graphics.GraphWin(\"Optimizing, current max\", *window_size)\n",
    "win.setBackground('white')\n",
    "win_no_length_check.setBackground('white')\n",
    "\n",
    "close_win = graphics.GraphWin(\"Optimizing, close\", 550, 80)\n",
    "text = graphics.Text(graphics.Point(275, 32), \"Close windows once done\")\n",
    "text.setTextColor('red')\n",
    "text.setStyle('bold')\n",
    "text.draw(close_win)\n",
    "\n",
    "try:\n",
    "    draw_path(win, max_path)\n",
    "    draw_path(win_no_length_check, max_path_no_length_check)\n",
    "    iterations = 200\n",
    "    for i in range(iterations):\n",
    "        try:\n",
    "            update_max_path(win)\n",
    "            update_max_path_no_length_check(win_no_length_check)\n",
    "        except:\n",
    "            pass\n",
    "\n",
    "        aco.iteration(pheromone_graph, distance_graph)\n",
    "\n",
    "        progress(i, iterations)\n",
    "\n",
    "        filled_len = int(550 * i / iterations)\n",
    "        bar = graphics.Line(graphics.Point(0, 75), graphics.Point(filled_len, 75))\n",
    "        bar.setFill('grey')\n",
    "        bar.setWidth(9)\n",
    "        bar.draw(close_win)\n",
    "\n",
    "    progress(iterations, iterations, status='Done')\n",
    "    bar = graphics.Line(graphics.Point(0, 75), graphics.Point(550, 75))\n",
    "    bar.setFill('black')\n",
    "    bar.setWidth(9)\n",
    "    bar.draw(close_win)\n",
    "\n",
    "    close_win.getMouse()\n",
    "except graphics.GraphicsError:\n",
    "    pass\n",
    "finally:\n",
    "    win.close()\n",
    "    win_no_length_check.close()\n",
    "    close_win.close()\n",
    "\n",
    "plt.matshow(pheromone_graph)\n",
    "plt.matshow(1/distance_graph)\n",
    "# %%timeit"
   ]
  }
 ],
 "metadata": {
  "kernelspec": {
   "display_name": "Python 3.10.5 ('omfe')",
   "language": "python",
   "name": "python3"
  },
  "language_info": {
   "codemirror_mode": {
    "name": "ipython",
    "version": 3
   },
   "file_extension": ".py",
   "mimetype": "text/x-python",
   "name": "python",
   "nbconvert_exporter": "python",
   "pygments_lexer": "ipython3",
   "version": "3.10.5"
  },
  "orig_nbformat": 4,
  "vscode": {
   "interpreter": {
    "hash": "3234e1fa89af1b54fad5721640a69eec0aaf78b1f068c7006e5aaf33d3c53555"
   }
  }
 },
 "nbformat": 4,
 "nbformat_minor": 2
}
