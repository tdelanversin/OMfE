{
 "cells": [
  {
   "cell_type": "code",
   "execution_count": 7,
   "metadata": {},
   "outputs": [
    {
     "name": "stdout",
     "output_type": "stream",
     "text": [
      "Traceback (most recent call last):\n",
      "  File \"/home/tilman/Documents/repositories/OMfE/minesweeper_playable_v2.py\", line 33, in <module>\n",
      "    demo_board = np.array(pd.read_csv('minesweeper_demo_board.csv'))\n",
      "  File \"/home/tilman/miniconda3/envs/omfe/lib/python3.10/site-packages/pandas/util/_decorators.py\", line 311, in wrapper\n",
      "    return func(*args, **kwargs)\n",
      "  File \"/home/tilman/miniconda3/envs/omfe/lib/python3.10/site-packages/pandas/io/parsers/readers.py\", line 680, in read_csv\n",
      "    return _read(filepath_or_buffer, kwds)\n",
      "  File \"/home/tilman/miniconda3/envs/omfe/lib/python3.10/site-packages/pandas/io/parsers/readers.py\", line 575, in _read\n",
      "    parser = TextFileReader(filepath_or_buffer, **kwds)\n",
      "  File \"/home/tilman/miniconda3/envs/omfe/lib/python3.10/site-packages/pandas/io/parsers/readers.py\", line 934, in __init__\n",
      "    self._engine = self._make_engine(f, self.engine)\n",
      "  File \"/home/tilman/miniconda3/envs/omfe/lib/python3.10/site-packages/pandas/io/parsers/readers.py\", line 1218, in _make_engine\n",
      "    self.handles = get_handle(  # type: ignore[call-overload]\n",
      "  File \"/home/tilman/miniconda3/envs/omfe/lib/python3.10/site-packages/pandas/io/common.py\", line 786, in get_handle\n",
      "    handle = open(\n",
      "FileNotFoundError: [Errno 2] No such file or directory: 'minesweeper_demo_board.csv'\n"
     ]
    }
   ],
   "source": [
    "!python3 minesweeper_playable_v2.py"
   ]
  },
  {
   "cell_type": "code",
   "execution_count": 2,
   "metadata": {},
   "outputs": [],
   "source": [
    "%load_ext autoreload\n",
    "%autoreload 2\n",
    "\n",
    "from graphics import (\n",
    "    GraphWin,\n",
    "    Point,\n",
    "    Line,\n",
    "    Text,\n",
    "    Rectangle,\n",
    "    color_rgb,\n",
    "\n",
    "    GraphicsError\n",
    ")\n",
    "import numpy as np\n",
    "import matplotlib.pyplot as plt\n",
    "import sys\n",
    "\n",
    "def progress(count, total, status=''):\n",
    "    bar_len = 50\n",
    "    filled_len = int(round(bar_len * count / float(total)))\n",
    "\n",
    "    percents = round(100.0 * count / float(total), 1)\n",
    "    bar = '█' * filled_len + ' ' * (bar_len - filled_len)\n",
    "\n",
    "    sys.stdout.write('[%s] %s%s ...%s\\r' % (bar, percents, '%', status))\n",
    "    sys.stdout.flush()"
   ]
  },
  {
   "cell_type": "code",
   "execution_count": 11,
   "metadata": {},
   "outputs": [
    {
     "name": "stdout",
     "output_type": "stream",
     "text": [
      "0.3333333333333333 0.42857142857142855 0.45454545454545453\n"
     ]
    },
    {
     "data": {
      "text/plain": [
       "array([0.33333333, 0.42857143, 0.45454545])"
      ]
     },
     "execution_count": 11,
     "metadata": {},
     "output_type": "execute_result"
    }
   ],
   "source": [
    "pheromone_graph = np.array([[1,2],[3,4],[5,6]])\n",
    "print(1/3, 3/7, 5/11)\n",
    "pheromone_graph[:, 0] / pheromone_graph.sum(axis=1)"
   ]
  },
  {
   "cell_type": "code",
   "execution_count": 21,
   "metadata": {},
   "outputs": [],
   "source": [
    "outputs = [(4, 3, 0, 4), (6, 1, 0, 1), (0, 2, 1, 2), (0, 2, 1, 2), (5, 4, 1, 2), (2, 1, 3, 2), (6, 5, 1, 2), (5, 0, 0, 2), (0, 3, 2, 1), (2, 2, 0, 2), (3, 3, 0, 1), (4, 3, 0, 1), (6, 2, 1, 2), (5, 2, 0, 1), (6, 1, 1, 1), (0, 4, 1, 2), (5, 3, 0, 3), (0, 0, 0, 2), (4, 3, 1, 1), (4, 1, 1, 2)]"
   ]
  },
  {
   "cell_type": "code",
   "execution_count": 19,
   "metadata": {},
   "outputs": [
    {
     "data": {
      "text/plain": [
       "0.8"
      ]
     },
     "execution_count": 19,
     "metadata": {},
     "output_type": "execute_result"
    }
   ],
   "source": [
    "np.mean([1, 0, 1, 1, 2, 1, 0, 0, 0, 1, 1, 2, 1, 0, 1, 0, 2, 1, 1, 0])"
   ]
  },
  {
   "cell_type": "code",
   "execution_count": 23,
   "metadata": {},
   "outputs": [
    {
     "data": {
      "text/plain": [
       "array([3.35, 2.25, 0.7 , 1.8 ])"
      ]
     },
     "execution_count": 23,
     "metadata": {},
     "output_type": "execute_result"
    }
   ],
   "source": [
    "np.array(outputs).mean(axis=0)"
   ]
  },
  {
   "cell_type": "code",
   "execution_count": 9,
   "metadata": {},
   "outputs": [
    {
     "data": {
      "text/plain": [
       "[<matplotlib.lines.Line2D at 0x7f3372df9750>]"
      ]
     },
     "execution_count": 9,
     "metadata": {},
     "output_type": "execute_result"
    },
    {
     "data": {
      "image/png": "[encoded data removed]",
      "text/plain": [
       "<Figure size 432x288 with 1 Axes>"
      ]
     },
     "metadata": {
      "needs_background": "light"
     },
     "output_type": "display_data"
    }
   ],
   "source": [
    "solutions = np.array([1,2,3,4,5,6,7,8,9])\n",
    "rank_probabilities = np.arange(len(solutions) - 1, 0, -1) ** 4\n",
    "probability = rank_probabilities / np.sum(rank_probabilities)\n",
    "\n",
    "chosen_survivors = np.random.choice(\n",
    "    10, p=probability, size=5-1, replace=False)\n",
    "\n",
    "solutions[chosen_survivors]"
   ]
  },
  {
   "cell_type": "code",
   "execution_count": 20,
   "metadata": {},
   "outputs": [
    {
     "data": {
      "image/png": "[encoded data removed]",
      "text/plain": [
       "<Figure size 288x288 with 2 Axes>"
      ]
     },
     "metadata": {
      "needs_background": "light"
     },
     "output_type": "display_data"
    },
    {
     "data": {
      "image/png": "[encoded data removed]",
      "text/plain": [
       "<Figure size 288x288 with 2 Axes>"
      ]
     },
     "metadata": {
      "needs_background": "light"
     },
     "output_type": "display_data"
    },
    {
     "name": "stdout",
     "output_type": "stream",
     "text": [
      "(array([14]), array([18]))\n"
     ]
    }
   ],
   "source": [
    "board_size = 30, 30\n",
    "n_mines = 200\n",
    "neighbors_tuple = [(-1, -1), (-1, 0), (-1, 1), (0, -1), (0, 1), (1, -1), (1, 0), (1, 1)]\n",
    "\n",
    "\n",
    "\n",
    "# Generate a random field of mines\n",
    "mines = np.zeros(board_size)\n",
    "positions = np.random.choice(\n",
    "    board_size[0] * board_size[1], size=n_mines, replace=False)\n",
    "positions = np.unravel_index(positions, board_size)\n",
    "mines[positions] = 1\n",
    "\n",
    "\n",
    "\n",
    "# Generate mine neighbors\n",
    "padded_mines = np.zeros((board_size[0]+2, board_size[1]+2))\n",
    "padded_mines[1:-1, 1:-1] = mines\n",
    "\n",
    "neighbors = []\n",
    "for i, j in neighbors_tuple:\n",
    "    i, j = i + 1, j + 1\n",
    "    shifted_mines = padded_mines[i:board_size[0]+i, j:board_size[1]+j]\n",
    "    neighbors.append(shifted_mines)\n",
    "neighbors = np.stack(neighbors, axis=-1)\n",
    "\n",
    "minesweeper = np.sum(neighbors, axis=-1, dtype=int)\n",
    "minesweeper[mines == 1] = -1\n",
    "\n",
    "plt.matshow(minesweeper)\n",
    "plt.colorbar()\n",
    "plt.show()\n",
    "\n",
    "\n",
    "\n",
    "# Find initial start squares\n",
    "if (minesweeper != 0).all():\n",
    "    # This should never (but can) happen\n",
    "    raise ValueError(\"Minesweeper contains no zero square, restart\")\n",
    "potential_starts = np.where(minesweeper == 0)\n",
    "chosen_option = np.random.choice(potential_starts[0].size, size=1)\n",
    "start = (potential_starts[0][chosen_option],\n",
    "         potential_starts[1][chosen_option])\n",
    "tmp = minesweeper.copy()\n",
    "tmp[start] = 9\n",
    "\n",
    "\n",
    "\n",
    "# Generate visible field\n",
    "# -2 = unexplored, -1 = explored, 0 = empty, 1 = mine\n",
    "visible_tiles = np.full_like(minesweeper, -2)\n",
    "\n",
    "def uncover_square(x, y):\n",
    "    visible_tiles[x, y] = 0\n",
    "    if minesweeper[x, y] == -1:\n",
    "        visible_tiles[x, y] = 1\n",
    "    elif minesweeper[x, y] == 0:\n",
    "        for i, j in neighbors_tuple:\n",
    "            if 0 <= x + i < board_size[0] and 0 <= y + j < board_size[1] and visible_tiles[x+i, y+j] < 0:\n",
    "                uncover_square(x+i, y+j)\n",
    "    else:\n",
    "        for i, j in neighbors_tuple:\n",
    "            if 0 <= x + i < board_size[0] and 0 <= y + j < board_size[1] and visible_tiles[x+i, y+j] == -2:\n",
    "                visible_tiles[x+i, y+j] = -1\n",
    "\n",
    "[uncover_square(x, y) for x, y in zip(*start)]\n",
    "\n",
    "plt.matshow(visible_tiles)\n",
    "plt.colorbar()\n",
    "plt.show()\n",
    "\n",
    "\n",
    "\n",
    "# Solution checker\n",
    "def satisfies_sweeper(solution, visible_tiles=visible_tiles):\n",
    "    errors = 0\n",
    "    for i, j in np.ndindex(visible_tiles.shape):\n",
    "        if visible_tiles[i, j] == 0:\n",
    "            neighbors = solution[max(0, i-1):min(board_size[0], i+2), max(0, j-1):min(board_size[1], j+2)]\n",
    "            neighbors[neighbors == -2] = 0\n",
    "            number_of_bombs = np.sum(neighbors)\n",
    "            if number_of_bombs != minesweeper[i, j]:\n",
    "                errors += np.abs(number_of_bombs - minesweeper[i, j])\n",
    "    return errors\n",
    "\n",
    "\n",
    "\n",
    "# Fitness function\n",
    "def fitness(solution, visible_tiles=visible_tiles):\n",
    "    solution_full = visible_tiles.copy()\n",
    "    solution_full[visible_tiles == -1] = solution\n",
    "    solution = solution_full\n",
    "    return satisfies_sweeper(solution, visible_tiles)\n",
    "\n",
    "import pandas as pd\n",
    "pd.DataFrame(minesweeper).to_csv('minesweeper_demo_board.csv', header=False, index=False)\n",
    "print(start)\n"
   ]
  },
  {
   "cell_type": "code",
   "execution_count": null,
   "metadata": {},
   "outputs": [],
   "source": [
    "# Solve obvious squares\n",
    "def solve_obvious(game_tiles):\n",
    "    flagged_tiles = game_tiles.copy()\n",
    "    for x, y in np.ndindex(flagged_tiles.shape):\n",
    "        if flagged_tiles[x, y] == 0:\n",
    "            number_of_bombs = minesweeper[x, y]\n",
    "\n",
    "            neighbors = flagged_tiles[max(0, x-1):min(board_size[0], x+2), max(0, y-1):min(board_size[1], y+2)]\n",
    "            number_of_covered_tiles = np.sum(neighbors != 0).astype(int)\n",
    "\n",
    "            if number_of_bombs == number_of_covered_tiles:\n",
    "                for i, j in neighbors_tuple:\n",
    "                    if 0 <= x + i < board_size[0] and 0 <= y + j < board_size[1] and flagged_tiles[x+i, y+j] < 0:\n",
    "                        flagged_tiles[x+i, y+j] = 1\n",
    "    return flagged_tiles\n",
    "\n",
    "\n",
    "\n",
    "# Find wrongly predicted tiles\n",
    "def solve_error_tiles(game_tiles, solution):\n",
    "    error_tiles = np.zeros_like(solution)\n",
    "    for i, j in np.ndindex(solution.shape):\n",
    "        if game_tiles[i, j] == 0:\n",
    "            neighbors = solution[max(0, i-1):min(board_size[0], i+2), max(0, j-1):min(board_size[1], j+2)]\n",
    "            number_of_bombs = np.sum((neighbors == 1).astype(int))\n",
    "            if number_of_bombs != minesweeper[i, j]:\n",
    "                error_tiles[i, j] = 1\n",
    "    return error_tiles\n"
   ]
  },
  {
   "cell_type": "code",
   "execution_count": null,
   "metadata": {},
   "outputs": [
    {
     "data": {
      "image/png": "[encoded data removed]",
      "text/plain": [
       "<Figure size 288x288 with 1 Axes>"
      ]
     },
     "metadata": {
      "needs_background": "light"
     },
     "output_type": "display_data"
    }
   ],
   "source": [
    "square_size = 50\n",
    "font_size = 10\n",
    "\n",
    "win = GraphWin(\"Minesweeper\", board_size[0]*square_size, board_size[1]*square_size)\n",
    "try:\n",
    "    tmp = solve_obvious(visible_tiles)\n",
    "    plt.matshow(tmp)\n",
    "    show_minesweeper(win, minesweeper, tmp, square_size=square_size, font_size=font_size)\n",
    "    win.getMouse()\n",
    "except GraphicsError:\n",
    "    pass\n",
    "finally:\n",
    "    win.close()"
   ]
  },
  {
   "cell_type": "code",
   "execution_count": null,
   "metadata": {},
   "outputs": [
    {
     "name": "stdout",
     "output_type": "stream",
     "text": [
      "[██████████████████████████████████████████████████] 100.0% ...\tIteration: 299\tError: 3\tSolution not found\n",
      "\r"
     ]
    },
    {
     "data": {
      "image/png": "[encoded data removed]",
      "text/plain": [
       "<Figure size 432x288 with 1 Axes>"
      ]
     },
     "metadata": {
      "needs_background": "light"
     },
     "output_type": "display_data"
    }
   ],
   "source": [
    "from functools import partial\n",
    "from GeneticAlgorithm import ga_solver\n",
    "from microGeneticAlgorithm import micro_ga_solver\n",
    "from display_minesweeper import initialize_minesweeper, update_minesweeper\n",
    "\n",
    "parameters = {\n",
    "    \"n_generations\": 300,\n",
    "    \"n_individuals\": 100,\n",
    "    \"n_survivors\": 30,\n",
    "    \"n_crossovers\": 10,\n",
    "    \"n_mutations\": 5,\n",
    "}\n",
    "\n",
    "square_size = 50\n",
    "font_size = 10\n",
    "\n",
    "game_tiles = visible_tiles.copy()\n",
    "ga_solution_full = np.zeros_like(game_tiles)\n",
    "error_tiles = np.zeros_like(game_tiles)\n",
    "\n",
    "win = initialize_minesweeper(minesweeper, square_size=square_size, font_size=font_size)\n",
    "try:\n",
    "    update_minesweeper(win, game_tiles)\n",
    "\n",
    "    def handle_click(case, x, y):\n",
    "        game_tiles[x, y] = 0\n",
    "        if case == 0:\n",
    "            for i, j in neighbors_tuple:\n",
    "                if 0 <= x + i < board_size[0] and 0 <= y + j < board_size[1] and game_tiles[x+i, y+j] < 0:\n",
    "                    handle_click(minesweeper[x+i, y+j], x+i, y+j)\n",
    "        elif case > 0:\n",
    "            for i, j in neighbors_tuple:\n",
    "                if 0 <= x + i < board_size[0] and 0 <= y + j < board_size[1] and game_tiles[x+i, y+j] == -2:\n",
    "                    game_tiles[x+i, y+j] = -1\n",
    "\n",
    "    while(win.isOpen()):\n",
    "        point, is_right_click = win.getMouse()\n",
    "        x, y = point.getX(), point.getY()\n",
    "        x = int(x/square_size)\n",
    "        y = int(y/square_size)\n",
    "\n",
    "        if y >= board_size[1]:\n",
    "            game_tiles = solve_obvious(game_tiles)\n",
    "            update_minesweeper(win, game_tiles)\n",
    "\n",
    "            solution_tiles = game_tiles == -1\n",
    "            solution_space = np.sum(solution_tiles.astype(int))\n",
    "\n",
    "            ga_solution, error = ga_solver(solution_space, partial(fitness, visible_tiles=game_tiles), **parameters)\n",
    "            ga_solution_full = game_tiles.copy()\n",
    "            ga_solution_full[solution_tiles] = ga_solution\n",
    "\n",
    "            error_tiles = solve_error_tiles(game_tiles, ga_solution_full)\n",
    "\n",
    "            update_minesweeper(win, game_tiles, ga_solution=ga_solution_full, error_tiles=error_tiles)\n",
    "            continue\n",
    "\n",
    "        if game_tiles[x, y] == 0:\n",
    "            continue\n",
    "\n",
    "        if is_right_click:\n",
    "            if game_tiles[x, y] == -1:\n",
    "                game_tiles[x, y] = 1\n",
    "            elif game_tiles[x, y] == 1:\n",
    "                game_tiles[x, y] = -1\n",
    "            update_minesweeper(win, game_tiles, ga_solution=ga_solution_full, error_tiles=error_tiles)\n",
    "            continue\n",
    "\n",
    "        case = minesweeper[x, y]\n",
    "        handle_click(case, x, y)\n",
    "\n",
    "        update_minesweeper(win, game_tiles, ga_solution=ga_solution_full, error_tiles=error_tiles)\n",
    "\n",
    "        if case == -1:\n",
    "            win.getMouse()\n",
    "            win.close()\n",
    "            break\n",
    "\n",
    "except GraphicsError:\n",
    "    pass\n",
    "finally:\n",
    "    win.close()"
   ]
  },
  {
   "cell_type": "code",
   "execution_count": null,
   "metadata": {},
   "outputs": [
    {
     "name": "stdout",
     "output_type": "stream",
     "text": [
      "Hello World\n"
     ]
    }
   ],
   "source": [
    "def test(a=None, b=None):\n",
    "    print(a, b)\n",
    "\n",
    "args = {\n",
    "    'a':\"Hello\",\n",
    "    'b':\"World\"\n",
    "}\n",
    "\n",
    "test(**args)"
   ]
  },
  {
   "cell_type": "code",
   "execution_count": null,
   "metadata": {},
   "outputs": [
    {
     "name": "stdout",
     "output_type": "stream",
     "text": [
      "Solution space: 16\n",
      "[██████                                            ] 11.0% ...\tIteration: 10\tError: 0\tFinished\n",
      "GA error: 0\n",
      "GA time: 1.3399014472961426 seconds\n",
      "[███████                                           ] 13.8% ...\tIteration: 1\tSubIteration: 37\tError: 0\tFinished\t\n",
      "MicroGA error: 0\n",
      "MicroGA time: 1.4930429458618164 seconds\n"
     ]
    },
    {
     "data": {
      "image/png": "[encoded data removed]",
      "text/plain": [
       "<Figure size 288x288 with 2 Axes>"
      ]
     },
     "metadata": {
      "needs_background": "light"
     },
     "output_type": "display_data"
    },
    {
     "data": {
      "image/png": "[encoded data removed]",
      "text/plain": [
       "<Figure size 288x288 with 2 Axes>"
      ]
     },
     "metadata": {
      "needs_background": "light"
     },
     "output_type": "display_data"
    },
    {
     "data": {
      "image/png": "[encoded data removed]",
      "text/plain": [
       "<Figure size 432x288 with 1 Axes>"
      ]
     },
     "metadata": {
      "needs_background": "light"
     },
     "output_type": "display_data"
    }
   ],
   "source": [
    "from GeneticAlgorithm import ga_solver\n",
    "from microGeneticAlgorithm import micro_ga_solver\n",
    "import time\n",
    "\n",
    "solution_evo = solve_obvious(visible_tiles)\n",
    "solution_tiles = solution_evo == -1\n",
    "solution_space = np.sum(solution_tiles.astype(int))\n",
    "print(\"Solution space: {}\".format(solution_space))\n",
    "\n",
    "initial_solution = np.random.choice(2, size=solution_space, p=[0.5, 0.5])\n",
    "\n",
    "tik = time.time()\n",
    "ga_solution, error = ga_solver(solution_space, fitness,\n",
    "                               initial_solution=initial_solution)\n",
    "tok = time.time()\n",
    "print(\"GA error: {}\".format(error[-1]))\n",
    "print(\"GA time: {} seconds\".format(tok - tik))\n",
    "\n",
    "tik = time.time()\n",
    "micro_ga_solution, m_error = micro_ga_solver(solution_space, fitness, initial_solution=initial_solution,\n",
    "                                             n_generations=10, n_sub_generations=100,\n",
    "                                             n_individuals=31, n_crossovers=10)\n",
    "tok = time.time()\n",
    "print(\"MicroGA error: {}\".format(m_error[-1]))\n",
    "print(\"MicroGA time: {} seconds\".format(tok - tik))\n",
    "\n",
    "solution_evo[solution_tiles] = ga_solution\n",
    "plt.matshow(solution_evo)\n",
    "plt.colorbar()\n",
    "plt.show()\n",
    "\n",
    "solution_evo[solution_tiles] = micro_ga_solution\n",
    "plt.matshow(solution_evo)\n",
    "plt.colorbar()\n",
    "plt.show()\n",
    "\n",
    "plt.plot(error)\n",
    "plt.plot(m_error)\n",
    "plt.show()\n"
   ]
  },
  {
   "cell_type": "code",
   "execution_count": null,
   "metadata": {},
   "outputs": [
    {
     "data": {
      "text/plain": [
       "3"
      ]
     },
     "execution_count": 8,
     "metadata": {},
     "output_type": "execute_result"
    }
   ],
   "source": [
    "import numpy as np\n",
    "tmp = np.array([[1,2,3],[4,5,6],[7,8,9]])\n",
    "len(tmp)"
   ]
  },
  {
   "cell_type": "code",
   "execution_count": null,
   "metadata": {},
   "outputs": [],
   "source": [
    "solution_evo = visible_tiles.copy()\n",
    "solution_space = solution_evo[solution_evo == -1].size\n",
    "print(\"Solution space: {}\".format(solution_space))\n",
    "\n",
    "possible_parameters = {\n",
    "    \"n_survivors\": [15, 30, 50, 75],\n",
    "    \"n_mutations\": [5, 10, 15, 20, 30, 50, 75, 100, 125, 150],\n",
    "    \"n_crossover\": [5, 10, 15, 30, 75]\n",
    "}\n",
    "shape = tuple([len(possible_parameters[k]) for k in possible_parameters.keys()])\n",
    "\n",
    "n_generations = 50\n",
    "n_individuals = 100\n",
    "generated_solutions = np.random.randint(0, 2, size=(n_individuals, solution_space))\n",
    "for surv, mut, cross in np.ndindex(shape):\n",
    "    n_survivors = possible_parameters[\"n_survivors\"][surv]\n",
    "    n_mutations = possible_parameters[\"n_mutations\"][mut]\n",
    "    n_crossovers = possible_parameters[\"n_crossover\"][cross]\n",
    "\n",
    "    print(f\"Testing parameters: n_generations={n_generations}, \\\n",
    "        n_individuals={n_individuals}, \\\n",
    "        n_survivors={n_survivors}, \\\n",
    "        n_mutations={n_mutations}, \\\n",
    "        n_crossovers={n_crossovers}\")\n",
    "    solution, error = ga_solver(solution_space,\n",
    "        generated_solutions=generated_solutions,\n",
    "        n_generations=n_generations,\n",
    "        n_individuals=n_individuals,\n",
    "        n_survivors=n_survivors,\n",
    "        n_mutations=n_mutations,\n",
    "        n_crossovers=n_crossovers)\n",
    "\n",
    "\n",
    "\n",
    "\n",
    "plt.matshow(solution_evo)\n",
    "plt.colorbar()\n",
    "plt.show()\n",
    "\n",
    "plt.plot(error)\n",
    "plt.show()"
   ]
  },
  {
   "cell_type": "code",
   "execution_count": null,
   "metadata": {},
   "outputs": [],
   "source": [
    "output = \"\"\"Solution space: 415\n",
    "Testing parameters: n_generations=50, n_individuals=100, n_survivors=15, n_mutations=5, n_crossovers=5\n",
    "[██████████████████████████████████████████████████] 100.0% ...\tIteration: 49\tError: 136\tSolution not found\n",
    "Testing parameters: n_generations=50, n_individuals=100, n_survivors=15, n_mutations=5, n_crossovers=10\n",
    "[██████████████████████████████████████████████████] 100.0% ...\tIteration: 49\tError: 143\tSolution not found\n",
    "Testing parameters: n_generations=50, n_individuals=100, n_survivors=15, n_mutations=5, n_crossovers=15\n",
    "[██████████████████████████████████████████████████] 100.0% ...\tIteration: 49\tError: 121\tSolution not found\n",
    "Testing parameters: n_generations=50, n_individuals=100, n_survivors=15, n_mutations=5, n_crossovers=30\n",
    "[██████████████████████████████████████████████████] 100.0% ...\tIteration: 49\tError: 140\tSolution not found\n",
    "Testing parameters: n_generations=50, n_individuals=100, n_survivors=15, n_mutations=5, n_crossovers=75\n",
    "[██████████████████████████████████████████████████] 100.0% ...\tIteration: 49\tError: 148\tSolution not found\n",
    "Testing parameters: n_generations=50, n_individuals=100, n_survivors=15, n_mutations=10, n_crossovers=5\n",
    "[██████████████████████████████████████████████████] 100.0% ...\tIteration: 49\tError: 141\tSolution not found\n",
    "Testing parameters: n_generations=50, n_individuals=100, n_survivors=15, n_mutations=10, n_crossovers=10\n",
    "[██████████████████████████████████████████████████] 100.0% ...\tIteration: 49\tError: 148\tSolution not found\n",
    "Testing parameters: n_generations=50, n_individuals=100, n_survivors=15, n_mutations=10, n_crossovers=15\n",
    "[██████████████████████████████████████████████████] 100.0% ...\tIteration: 49\tError: 145\tSolution not found\n",
    "Testing parameters: n_generations=50, n_individuals=100, n_survivors=15, n_mutations=10, n_crossovers=30\n",
    "[██████████████████████████████████████████████████] 100.0% ...\tIteration: 49\tError: 141\tSolution not found\n",
    "Testing parameters: n_generations=50, n_individuals=100, n_survivors=15, n_mutations=10, n_crossovers=75\n",
    "[██████████████████████████████████████████████████] 100.0% ...\tIteration: 49\tError: 148\tSolution not found\n",
    "Testing parameters: n_generations=50, n_individuals=100, n_survivors=15, n_mutations=15, n_crossovers=5\n",
    "[██████████████████████████████████████████████████] 100.0% ...\tIteration: 49\tError: 146\tSolution not found\n",
    "Testing parameters: n_generations=50, n_individuals=100, n_survivors=15, n_mutations=15, n_crossovers=10\n",
    "[██████████████████████████████████████████████████] 100.0% ...\tIteration: 49\tError: 147\tSolution not found\n",
    "Testing parameters: n_generations=50, n_individuals=100, n_survivors=15, n_mutations=15, n_crossovers=15\n",
    "[██████████████████████████████████████████████████] 100.0% ...\tIteration: 49\tError: 147\tSolution not found\n",
    "Testing parameters: n_generations=50, n_individuals=100, n_survivors=15, n_mutations=15, n_crossovers=30\n",
    "[██████████████████████████████████████████████████] 100.0% ...\tIteration: 49\tError: 150\tSolution not found\n",
    "Testing parameters: n_generations=50, n_individuals=100, n_survivors=15, n_mutations=15, n_crossovers=75\n",
    "[██████████████████████████████████████████████████] 100.0% ...\tIteration: 49\tError: 150\tSolution not found\n",
    "Testing parameters: n_generations=50, n_individuals=100, n_survivors=15, n_mutations=20, n_crossovers=5\n",
    "[██████████████████████████████████████████████████] 100.0% ...\tIteration: 49\tError: 154\tSolution not found\n",
    "Testing parameters: n_generations=50, n_individuals=100, n_survivors=15, n_mutations=20, n_crossovers=10\n",
    "[██████████████████████████████████████████████████] 100.0% ...\tIteration: 49\tError: 150\tSolution not found\n",
    "Testing parameters: n_generations=50, n_individuals=100, n_survivors=15, n_mutations=20, n_crossovers=15\n",
    "[██████████████████████████████████████████████████] 100.0% ...\tIteration: 49\tError: 154\tSolution not found\n",
    "Testing parameters: n_generations=50, n_individuals=100, n_survivors=15, n_mutations=20, n_crossovers=30\n",
    "[██████████████████████████████████████████████████] 100.0% ...\tIteration: 49\tError: 151\tSolution not found\n",
    "Testing parameters: n_generations=50, n_individuals=100, n_survivors=15, n_mutations=20, n_crossovers=75\n",
    "[██████████████████████████████████████████████████] 100.0% ...\tIteration: 49\tError: 154\tSolution not found\n",
    "Testing parameters: n_generations=50, n_individuals=100, n_survivors=15, n_mutations=30, n_crossovers=5\n",
    "[██████████████████████████████████████████████████] 100.0% ...\tIteration: 49\tError: 148\tSolution not found\n",
    "Testing parameters: n_generations=50, n_individuals=100, n_survivors=15, n_mutations=30, n_crossovers=10\n",
    "[██████████████████████████████████████████████████] 100.0% ...\tIteration: 49\tError: 150\tSolution not found\n",
    "Testing parameters: n_generations=50, n_individuals=100, n_survivors=15, n_mutations=30, n_crossovers=15\n",
    "[██████████████████████████████████████████████████] 100.0% ...\tIteration: 49\tError: 157\tSolution not found\n",
    "Testing parameters: n_generations=50, n_individuals=100, n_survivors=15, n_mutations=30, n_crossovers=30\n",
    "[██████████████████████████████████████████████████] 100.0% ...\tIteration: 49\tError: 157\tSolution not found\n",
    "Testing parameters: n_generations=50, n_individuals=100, n_survivors=15, n_mutations=30, n_crossovers=75\n",
    "[██████████████████████████████████████████████████] 100.0% ...\tIteration: 49\tError: 156\tSolution not found\n",
    "Testing parameters: n_generations=50, n_individuals=100, n_survivors=15, n_mutations=50, n_crossovers=5\n",
    "[██████████████████████████████████████████████████] 100.0% ...\tIteration: 49\tError: 155\tSolution not found\n",
    "Testing parameters: n_generations=50, n_individuals=100, n_survivors=15, n_mutations=50, n_crossovers=10\n",
    "[██████████████████████████████████████████████████] 100.0% ...\tIteration: 49\tError: 154\tSolution not found\n",
    "Testing parameters: n_generations=50, n_individuals=100, n_survivors=15, n_mutations=50, n_crossovers=15\n",
    "[██████████████████████████████████████████████████] 100.0% ...\tIteration: 49\tError: 152\tSolution not found\n",
    "Testing parameters: n_generations=50, n_individuals=100, n_survivors=15, n_mutations=50, n_crossovers=30\n",
    "[██████████████████████████████████████████████████] 100.0% ...\tIteration: 49\tError: 156\tSolution not found\n",
    "Testing parameters: n_generations=50, n_individuals=100, n_survivors=15, n_mutations=50, n_crossovers=75\n",
    "[██████████████████████████████████████████████████] 100.0% ...\tIteration: 49\tError: 149\tSolution not found\n",
    "Testing parameters: n_generations=50, n_individuals=100, n_survivors=15, n_mutations=75, n_crossovers=5\n",
    "[██████████████████████████████████████████████████] 100.0% ...\tIteration: 49\tError: 155\tSolution not found\n",
    "Testing parameters: n_generations=50, n_individuals=100, n_survivors=15, n_mutations=75, n_crossovers=10\n",
    "[██████████████████████████████████████████████████] 100.0% ...\tIteration: 49\tError: 156\tSolution not found\n",
    "Testing parameters: n_generations=50, n_individuals=100, n_survivors=15, n_mutations=75, n_crossovers=15\n",
    "[██████████████████████████████████████████████████] 100.0% ...\tIteration: 49\tError: 152\tSolution not found\n",
    "Testing parameters: n_generations=50, n_individuals=100, n_survivors=15, n_mutations=75, n_crossovers=30\n",
    "[██████████████████████████████████████████████████] 100.0% ...\tIteration: 49\tError: 158\tSolution not found\n",
    "Testing parameters: n_generations=50, n_individuals=100, n_survivors=15, n_mutations=75, n_crossovers=75\n",
    "[██████████████████████████████████████████████████] 100.0% ...\tIteration: 49\tError: 153\tSolution not found\n",
    "Testing parameters: n_generations=50, n_individuals=100, n_survivors=15, n_mutations=100, n_crossovers=5\n",
    "[██████████████████████████████████████████████████] 100.0% ...\tIteration: 49\tError: 154\tSolution not found\n",
    "Testing parameters: n_generations=50, n_individuals=100, n_survivors=15, n_mutations=100, n_crossovers=10\n",
    "[██████████████████████████████████████████████████] 100.0% ...\tIteration: 49\tError: 151\tSolution not found\n",
    "Testing parameters: n_generations=50, n_individuals=100, n_survivors=15, n_mutations=100, n_crossovers=15\n",
    "[██████████████████████████████████████████████████] 100.0% ...\tIteration: 49\tError: 156\tSolution not found\n",
    "Testing parameters: n_generations=50, n_individuals=100, n_survivors=15, n_mutations=100, n_crossovers=30\n",
    "[██████████████████████████████████████████████████] 100.0% ...\tIteration: 49\tError: 157\tSolution not found\n",
    "Testing parameters: n_generations=50, n_individuals=100, n_survivors=15, n_mutations=100, n_crossovers=75\n",
    "[██████████████████████████████████████████████████] 100.0% ...\tIteration: 49\tError: 159\tSolution not found\n",
    "Testing parameters: n_generations=50, n_individuals=100, n_survivors=15, n_mutations=125, n_crossovers=5\n",
    "[██████████████████████████████████████████████████] 100.0% ...\tIteration: 49\tError: 151\tSolution not found\n",
    "Testing parameters: n_generations=50, n_individuals=100, n_survivors=15, n_mutations=125, n_crossovers=10\n",
    "[██████████████████████████████████████████████████] 100.0% ...\tIteration: 49\tError: 157\tSolution not found\n",
    "Testing parameters: n_generations=50, n_individuals=100, n_survivors=15, n_mutations=125, n_crossovers=15\n",
    "[██████████████████████████████████████████████████] 100.0% ...\tIteration: 49\tError: 152\tSolution not found\n",
    "Testing parameters: n_generations=50, n_individuals=100, n_survivors=15, n_mutations=125, n_crossovers=30\n",
    "[██████████████████████████████████████████████████] 100.0% ...\tIteration: 49\tError: 152\tSolution not found\n",
    "Testing parameters: n_generations=50, n_individuals=100, n_survivors=15, n_mutations=125, n_crossovers=75\n",
    "[██████████████████████████████████████████████████] 100.0% ...\tIteration: 49\tError: 157\tSolution not found\n",
    "Testing parameters: n_generations=50, n_individuals=100, n_survivors=15, n_mutations=150, n_crossovers=5\n",
    "[██████████████████████████████████████████████████] 100.0% ...\tIteration: 49\tError: 160\tSolution not found\n",
    "Testing parameters: n_generations=50, n_individuals=100, n_survivors=15, n_mutations=150, n_crossovers=10\n",
    "[██████████████████████████████████████████████████] 100.0% ...\tIteration: 49\tError: 159\tSolution not found\n",
    "Testing parameters: n_generations=50, n_individuals=100, n_survivors=15, n_mutations=150, n_crossovers=15\n",
    "[██████████████████████████████████████████████████] 100.0% ...\tIteration: 49\tError: 159\tSolution not found\n",
    "Testing parameters: n_generations=50, n_individuals=100, n_survivors=15, n_mutations=150, n_crossovers=30\n",
    "[██████████████████████████████████████████████████] 100.0% ...\tIteration: 49\tError: 157\tSolution not found\n",
    "Testing parameters: n_generations=50, n_individuals=100, n_survivors=15, n_mutations=150, n_crossovers=75\n",
    "[██████████████████████████████████████████████████] 100.0% ...\tIteration: 49\tError: 163\tSolution not found\n",
    "Testing parameters: n_generations=50, n_individuals=100, n_survivors=30, n_mutations=5, n_crossovers=5\n",
    "[██████████████████████████████████████████████████] 100.0% ...\tIteration: 49\tError: 125\tSolution not found\n",
    "Testing parameters: n_generations=50, n_individuals=100, n_survivors=30, n_mutations=5, n_crossovers=10\n",
    "[██████████████████████████████████████████████████] 100.0% ...\tIteration: 49\tError: 120\tSolution not found\n",
    "Testing parameters: n_generations=50, n_individuals=100, n_survivors=30, n_mutations=5, n_crossovers=15\n",
    "[██████████████████████████████████████████████████] 100.0% ...\tIteration: 49\tError: 124\tSolution not found\n",
    "Testing parameters: n_generations=50, n_individuals=100, n_survivors=30, n_mutations=5, n_crossovers=30\n",
    "[██████████████████████████████████████████████████] 100.0% ...\tIteration: 49\tError: 124\tSolution not found\n",
    "Testing parameters: n_generations=50, n_individuals=100, n_survivors=30, n_mutations=5, n_crossovers=75\n",
    "[██████████████████████████████████████████████████] 100.0% ...\tIteration: 49\tError: 132\tSolution not found\n",
    "Testing parameters: n_generations=50, n_individuals=100, n_survivors=30, n_mutations=10, n_crossovers=5\n",
    "[██████████████████████████████████████████████████] 100.0% ...\tIteration: 49\tError: 136\tSolution not found\n",
    "Testing parameters: n_generations=50, n_individuals=100, n_survivors=30, n_mutations=10, n_crossovers=10\n",
    "[██████████████████████████████████████████████████] 100.0% ...\tIteration: 49\tError: 139\tSolution not found\n",
    "Testing parameters: n_generations=50, n_individuals=100, n_survivors=30, n_mutations=10, n_crossovers=15\n",
    "[██████████████████████████████████████████████████] 100.0% ...\tIteration: 49\tError: 144\tSolution not found\n",
    "Testing parameters: n_generations=50, n_individuals=100, n_survivors=30, n_mutations=10, n_crossovers=30\n",
    "[██████████████████████████████████████████████████] 100.0% ...\tIteration: 49\tError: 141\tSolution not found\n",
    "Testing parameters: n_generations=50, n_individuals=100, n_survivors=30, n_mutations=10, n_crossovers=75\n",
    "[██████████████████████████████████████████████████] 100.0% ...\tIteration: 49\tError: 139\tSolution not found\n",
    "Testing parameters: n_generations=50, n_individuals=100, n_survivors=30, n_mutations=15, n_crossovers=5\n",
    "[██████████████████████████████████████████████████] 100.0% ...\tIteration: 49\tError: 136\tSolution not found\n",
    "Testing parameters: n_generations=50, n_individuals=100, n_survivors=30, n_mutations=15, n_crossovers=10\n",
    "[██████████████████████████████████████████████████] 100.0% ...\tIteration: 49\tError: 142\tSolution not found\n",
    "Testing parameters: n_generations=50, n_individuals=100, n_survivors=30, n_mutations=15, n_crossovers=15\n",
    "[██████████████████████████████████████████████████] 100.0% ...\tIteration: 49\tError: 137\tSolution not found\n",
    "Testing parameters: n_generations=50, n_individuals=100, n_survivors=30, n_mutations=15, n_crossovers=30\n",
    "[██████████████████████████████████████████████████] 100.0% ...\tIteration: 49\tError: 151\tSolution not found\n",
    "Testing parameters: n_generations=50, n_individuals=100, n_survivors=30, n_mutations=15, n_crossovers=75\n",
    "[██████████████████████████████████████████████████] 100.0% ...\tIteration: 49\tError: 148\tSolution not found\n",
    "Testing parameters: n_generations=50, n_individuals=100, n_survivors=30, n_mutations=20, n_crossovers=5\n",
    "[██████████████████████████████████████████████████] 100.0% ...\tIteration: 49\tError: 145\tSolution not found\n",
    "Testing parameters: n_generations=50, n_individuals=100, n_survivors=30, n_mutations=20, n_crossovers=10\n",
    "[██████████████████████████████████████████████████] 100.0% ...\tIteration: 49\tError: 146\tSolution not found\n",
    "Testing parameters: n_generations=50, n_individuals=100, n_survivors=30, n_mutations=20, n_crossovers=15\n",
    "[██████████████████████████████████████████████████] 100.0% ...\tIteration: 49\tError: 147\tSolution not found\n",
    "Testing parameters: n_generations=50, n_individuals=100, n_survivors=30, n_mutations=20, n_crossovers=30\n",
    "[██████████████████████████████████████████████████] 100.0% ...\tIteration: 49\tError: 145\tSolution not found\n",
    "Testing parameters: n_generations=50, n_individuals=100, n_survivors=30, n_mutations=20, n_crossovers=75\n",
    "[██████████████████████████████████████████████████] 100.0% ...\tIteration: 49\tError: 153\tSolution not found\n",
    "Testing parameters: n_generations=50, n_individuals=100, n_survivors=30, n_mutations=30, n_crossovers=5\n",
    "[██████████████████████████████████████████████████] 100.0% ...\tIteration: 49\tError: 152\tSolution not found\n",
    "Testing parameters: n_generations=50, n_individuals=100, n_survivors=30, n_mutations=30, n_crossovers=10\n",
    "[██████████████████████████████████████████████████] 100.0% ...\tIteration: 49\tError: 145\tSolution not found\n",
    "Testing parameters: n_generations=50, n_individuals=100, n_survivors=30, n_mutations=30, n_crossovers=15\n",
    "[██████████████████████████████████████████████████] 100.0% ...\tIteration: 49\tError: 151\tSolution not found\n",
    "Testing parameters: n_generations=50, n_individuals=100, n_survivors=30, n_mutations=30, n_crossovers=30\n",
    "[██████████████████████████████████████████████████] 100.0% ...\tIteration: 49\tError: 152\tSolution not found\n",
    "Testing parameters: n_generations=50, n_individuals=100, n_survivors=30, n_mutations=30, n_crossovers=75\n",
    "[██████████████████████████████████████████████████] 100.0% ...\tIteration: 49\tError: 153\tSolution not found\n",
    "Testing parameters: n_generations=50, n_individuals=100, n_survivors=30, n_mutations=50, n_crossovers=5\n",
    "[██████████████████████████████████████████████████] 100.0% ...\tIteration: 49\tError: 150\tSolution not found\n",
    "Testing parameters: n_generations=50, n_individuals=100, n_survivors=30, n_mutations=50, n_crossovers=10\n",
    "[██████████████████████████████████████████████████] 100.0% ...\tIteration: 49\tError: 153\tSolution not found\n",
    "Testing parameters: n_generations=50, n_individuals=100, n_survivors=30, n_mutations=50, n_crossovers=15\n",
    "[██████████████████████████████████████████████████] 100.0% ...\tIteration: 49\tError: 154\tSolution not found\n",
    "Testing parameters: n_generations=50, n_individuals=100, n_survivors=30, n_mutations=50, n_crossovers=30\n",
    "[██████████████████████████████████████████████████] 100.0% ...\tIteration: 49\tError: 152\tSolution not found\n",
    "Testing parameters: n_generations=50, n_individuals=100, n_survivors=30, n_mutations=50, n_crossovers=75\n",
    "[██████████████████████████████████████████████████] 100.0% ...\tIteration: 49\tError: 156\tSolution not found\n",
    "Testing parameters: n_generations=50, n_individuals=100, n_survivors=30, n_mutations=75, n_crossovers=5\n",
    "[██████████████████████████████████████████████████] 100.0% ...\tIteration: 49\tError: 154\tSolution not found\n",
    "Testing parameters: n_generations=50, n_individuals=100, n_survivors=30, n_mutations=75, n_crossovers=10\n",
    "[██████████████████████████████████████████████████] 100.0% ...\tIteration: 49\tError: 145\tSolution not found\n",
    "Testing parameters: n_generations=50, n_individuals=100, n_survivors=30, n_mutations=75, n_crossovers=15\n",
    "[██████████████████████████████████████████████████] 100.0% ...\tIteration: 49\tError: 160\tSolution not found\n",
    "Testing parameters: n_generations=50, n_individuals=100, n_survivors=30, n_mutations=75, n_crossovers=30\n",
    "[██████████████████████████████████████████████████] 100.0% ...\tIteration: 49\tError: 152\tSolution not found\n",
    "Testing parameters: n_generations=50, n_individuals=100, n_survivors=30, n_mutations=75, n_crossovers=75\n",
    "[██████████████████████████████████████████████████] 100.0% ...\tIteration: 49\tError: 156\tSolution not found\n",
    "Testing parameters: n_generations=50, n_individuals=100, n_survivors=30, n_mutations=100, n_crossovers=5\n",
    "[██████████████████████████████████████████████████] 100.0% ...\tIteration: 49\tError: 156\tSolution not found\n",
    "Testing parameters: n_generations=50, n_individuals=100, n_survivors=30, n_mutations=100, n_crossovers=10\n",
    "[██████████████████████████████████████████████████] 100.0% ...\tIteration: 49\tError: 157\tSolution not found\n",
    "Testing parameters: n_generations=50, n_individuals=100, n_survivors=30, n_mutations=100, n_crossovers=15\n",
    "[██████████████████████████████████████████████████] 100.0% ...\tIteration: 49\tError: 154\tSolution not found\n",
    "Testing parameters: n_generations=50, n_individuals=100, n_survivors=30, n_mutations=100, n_crossovers=30\n",
    "[██████████████████████████████████████████████████] 100.0% ...\tIteration: 49\tError: 156\tSolution not found\n",
    "Testing parameters: n_generations=50, n_individuals=100, n_survivors=30, n_mutations=100, n_crossovers=75\n",
    "[██████████████████████████████████████████████████] 100.0% ...\tIteration: 49\tError: 155\tSolution not found\n",
    "Testing parameters: n_generations=50, n_individuals=100, n_survivors=30, n_mutations=125, n_crossovers=5\n",
    "[██████████████████████████████████████████████████] 100.0% ...\tIteration: 49\tError: 153\tSolution not found\n",
    "Testing parameters: n_generations=50, n_individuals=100, n_survivors=30, n_mutations=125, n_crossovers=10\n",
    "[██████████████████████████████████████████████████] 100.0% ...\tIteration: 49\tError: 150\tSolution not found\n",
    "Testing parameters: n_generations=50, n_individuals=100, n_survivors=30, n_mutations=125, n_crossovers=15\n",
    "[██████████████████████████████████████████████████] 100.0% ...\tIteration: 49\tError: 155\tSolution not found\n",
    "Testing parameters: n_generations=50, n_individuals=100, n_survivors=30, n_mutations=125, n_crossovers=30\n",
    "[██████████████████████████████████████████████████] 100.0% ...\tIteration: 49\tError: 157\tSolution not found\n",
    "Testing parameters: n_generations=50, n_individuals=100, n_survivors=30, n_mutations=125, n_crossovers=75\n",
    "[██████████████████████████████████████████████████] 100.0% ...\tIteration: 49\tError: 160\tSolution not found\n",
    "Testing parameters: n_generations=50, n_individuals=100, n_survivors=30, n_mutations=150, n_crossovers=5\n",
    "[██████████████████████████████████████████████████] 100.0% ...\tIteration: 49\tError: 155\tSolution not found\n",
    "Testing parameters: n_generations=50, n_individuals=100, n_survivors=30, n_mutations=150, n_crossovers=10\n",
    "[██████████████████████████████████████████████████] 100.0% ...\tIteration: 49\tError: 153\tSolution not found\n",
    "Testing parameters: n_generations=50, n_individuals=100, n_survivors=30, n_mutations=150, n_crossovers=15\n",
    "[██████████████████████████████████████████████████] 100.0% ...\tIteration: 49\tError: 157\tSolution not found\n",
    "Testing parameters: n_generations=50, n_individuals=100, n_survivors=30, n_mutations=150, n_crossovers=30\n",
    "[██████████████████████████████████████████████████] 100.0% ...\tIteration: 49\tError: 153\tSolution not found\n",
    "Testing parameters: n_generations=50, n_individuals=100, n_survivors=30, n_mutations=150, n_crossovers=75\n",
    "[██████████████████████████████████████████████████] 100.0% ...\tIteration: 49\tError: 156\tSolution not found\n",
    "Testing parameters: n_generations=50, n_individuals=100, n_survivors=50, n_mutations=5, n_crossovers=5\n",
    "[██████████████████████████████████████████████████] 100.0% ...\tIteration: 49\tError: 129\tSolution not found\n",
    "Testing parameters: n_generations=50, n_individuals=100, n_survivors=50, n_mutations=5, n_crossovers=10\n",
    "[██████████████████████████████████████████████████] 100.0% ...\tIteration: 49\tError: 127\tSolution not found\n",
    "Testing parameters: n_generations=50, n_individuals=100, n_survivors=50, n_mutations=5, n_crossovers=15\n",
    "[██████████████████████████████████████████████████] 100.0% ...\tIteration: 49\tError: 125\tSolution not found\n",
    "Testing parameters: n_generations=50, n_individuals=100, n_survivors=50, n_mutations=5, n_crossovers=30\n",
    "[██████████████████████████████████████████████████] 100.0% ...\tIteration: 49\tError: 130\tSolution not found\n",
    "Testing parameters: n_generations=50, n_individuals=100, n_survivors=50, n_mutations=5, n_crossovers=75\n",
    "[██████████████████████████████████████████████████] 100.0% ...\tIteration: 49\tError: 135\tSolution not found\n",
    "Testing parameters: n_generations=50, n_individuals=100, n_survivors=50, n_mutations=10, n_crossovers=5\n",
    "[██████████████████████████████████████████████████] 100.0% ...\tIteration: 49\tError: 129\tSolution not found\n",
    "Testing parameters: n_generations=50, n_individuals=100, n_survivors=50, n_mutations=10, n_crossovers=10\n",
    "[██████████████████████████████████████████████████] 100.0% ...\tIteration: 49\tError: 127\tSolution not found\n",
    "Testing parameters: n_generations=50, n_individuals=100, n_survivors=50, n_mutations=10, n_crossovers=15\n",
    "[██████████████████████████████████████████████████] 100.0% ...\tIteration: 49\tError: 132\tSolution not found\n",
    "Testing parameters: n_generations=50, n_individuals=100, n_survivors=50, n_mutations=10, n_crossovers=30\n",
    "[██████████████████████████████████████████████████] 100.0% ...\tIteration: 49\tError: 134\tSolution not found\n",
    "Testing parameters: n_generations=50, n_individuals=100, n_survivors=50, n_mutations=10, n_crossovers=75\n",
    "[██████████████████████████████████████████████████] 100.0% ...\tIteration: 49\tError: 136\tSolution not found\n",
    "Testing parameters: n_generations=50, n_individuals=100, n_survivors=50, n_mutations=15, n_crossovers=5\n",
    "[██████████████████████████████████████████████████] 100.0% ...\tIteration: 49\tError: 136\tSolution not found\n",
    "Testing parameters: n_generations=50, n_individuals=100, n_survivors=50, n_mutations=15, n_crossovers=10\n",
    "[██████████████████████████████████████████████████] 100.0% ...\tIteration: 49\tError: 137\tSolution not found\n",
    "Testing parameters: n_generations=50, n_individuals=100, n_survivors=50, n_mutations=15, n_crossovers=15\n",
    "[██████████████████████████████████████████████████] 100.0% ...\tIteration: 49\tError: 138\tSolution not found\n",
    "Testing parameters: n_generations=50, n_individuals=100, n_survivors=50, n_mutations=15, n_crossovers=30\n",
    "[██████████████████████████████████████████████████] 100.0% ...\tIteration: 49\tError: 138\tSolution not found\n",
    "Testing parameters: n_generations=50, n_individuals=100, n_survivors=50, n_mutations=15, n_crossovers=75\n",
    "[██████████████████████████████████████████████████] 100.0% ...\tIteration: 49\tError: 142\tSolution not found\n",
    "Testing parameters: n_generations=50, n_individuals=100, n_survivors=50, n_mutations=20, n_crossovers=5\n",
    "[██████████████████████████████████████████████████] 100.0% ...\tIteration: 49\tError: 139\tSolution not found\n",
    "Testing parameters: n_generations=50, n_individuals=100, n_survivors=50, n_mutations=20, n_crossovers=10\n",
    "[██████████████████████████████████████████████████] 100.0% ...\tIteration: 49\tError: 141\tSolution not found\n",
    "Testing parameters: n_generations=50, n_individuals=100, n_survivors=50, n_mutations=20, n_crossovers=15\n",
    "[██████████████████████████████████████████████████] 100.0% ...\tIteration: 49\tError: 147\tSolution not found\n",
    "Testing parameters: n_generations=50, n_individuals=100, n_survivors=50, n_mutations=20, n_crossovers=30\n",
    "[██████████████████████████████████████████████████] 100.0% ...\tIteration: 49\tError: 139\tSolution not found\n",
    "Testing parameters: n_generations=50, n_individuals=100, n_survivors=50, n_mutations=20, n_crossovers=75\n",
    "[██████████████████████████████████████████████████] 100.0% ...\tIteration: 49\tError: 144\tSolution not found\n",
    "Testing parameters: n_generations=50, n_individuals=100, n_survivors=50, n_mutations=30, n_crossovers=5\n",
    "[██████████████████████████████████████████████████] 100.0% ...\tIteration: 49\tError: 144\tSolution not found\n",
    "Testing parameters: n_generations=50, n_individuals=100, n_survivors=50, n_mutations=30, n_crossovers=10\n",
    "[██████████████████████████████████████████████████] 100.0% ...\tIteration: 49\tError: 140\tSolution not found\n",
    "Testing parameters: n_generations=50, n_individuals=100, n_survivors=50, n_mutations=30, n_crossovers=15\n",
    "[██████████████████████████████████████████████████] 100.0% ...\tIteration: 49\tError: 146\tSolution not found\n",
    "Testing parameters: n_generations=50, n_individuals=100, n_survivors=50, n_mutations=30, n_crossovers=30\n",
    "[██████████████████████████████████████████████████] 100.0% ...\tIteration: 49\tError: 143\tSolution not found\n",
    "Testing parameters: n_generations=50, n_individuals=100, n_survivors=50, n_mutations=30, n_crossovers=75\n",
    "[██████████████████████████████████████████████████] 100.0% ...\tIteration: 49\tError: 150\tSolution not found\n",
    "Testing parameters: n_generations=50, n_individuals=100, n_survivors=50, n_mutations=50, n_crossovers=5\n",
    "[██████████████████████████████████████████████████] 100.0% ...\tIteration: 49\tError: 148\tSolution not found\n",
    "Testing parameters: n_generations=50, n_individuals=100, n_survivors=50, n_mutations=50, n_crossovers=10\n",
    "[██████████████████████████████████████████████████] 100.0% ...\tIteration: 49\tError: 152\tSolution not found\n",
    "Testing parameters: n_generations=50, n_individuals=100, n_survivors=50, n_mutations=50, n_crossovers=15\n",
    "[██████████████████████████████████████████████████] 100.0% ...\tIteration: 49\tError: 150\tSolution not found\n",
    "Testing parameters: n_generations=50, n_individuals=100, n_survivors=50, n_mutations=50, n_crossovers=30\n",
    "[██████████████████████████████████████████████████] 100.0% ...\tIteration: 49\tError: 147\tSolution not found\n",
    "Testing parameters: n_generations=50, n_individuals=100, n_survivors=50, n_mutations=50, n_crossovers=75\n",
    "[██████████████████████████████████████████████████] 100.0% ...\tIteration: 49\tError: 150\tSolution not found\n",
    "Testing parameters: n_generations=50, n_individuals=100, n_survivors=50, n_mutations=75, n_crossovers=5\n",
    "[██████████████████████████████████████████████████] 100.0% ...\tIteration: 49\tError: 150\tSolution not found\n",
    "Testing parameters: n_generations=50, n_individuals=100, n_survivors=50, n_mutations=75, n_crossovers=10\n",
    "[██████████████████████████████████████████████████] 100.0% ...\tIteration: 49\tError: 149\tSolution not found\n",
    "Testing parameters: n_generations=50, n_individuals=100, n_survivors=50, n_mutations=75, n_crossovers=15\n",
    "[██████████████████████████████████████████████████] 100.0% ...\tIteration: 49\tError: 156\tSolution not found\n",
    "Testing parameters: n_generations=50, n_individuals=100, n_survivors=50, n_mutations=75, n_crossovers=30\n",
    "[██████████████████████████████████████████████████] 100.0% ...\tIteration: 49\tError: 145\tSolution not found\n",
    "Testing parameters: n_generations=50, n_individuals=100, n_survivors=50, n_mutations=75, n_crossovers=75\n",
    "[██████████████████████████████████████████████████] 100.0% ...\tIteration: 49\tError: 155\tSolution not found\n",
    "Testing parameters: n_generations=50, n_individuals=100, n_survivors=50, n_mutations=100, n_crossovers=5\n",
    "[██████████████████████████████████████████████████] 100.0% ...\tIteration: 49\tError: 153\tSolution not found\n",
    "Testing parameters: n_generations=50, n_individuals=100, n_survivors=50, n_mutations=100, n_crossovers=10\n",
    "[██████████████████████████████████████████████████] 100.0% ...\tIteration: 49\tError: 154\tSolution not found\n",
    "Testing parameters: n_generations=50, n_individuals=100, n_survivors=50, n_mutations=100, n_crossovers=15\n",
    "[██████████████████████████████████████████████████] 100.0% ...\tIteration: 49\tError: 153\tSolution not found\n",
    "Testing parameters: n_generations=50, n_individuals=100, n_survivors=50, n_mutations=100, n_crossovers=30\n",
    "[██████████████████████████████████████████████████] 100.0% ...\tIteration: 49\tError: 155\tSolution not found\n",
    "Testing parameters: n_generations=50, n_individuals=100, n_survivors=50, n_mutations=100, n_crossovers=75\n",
    "[██████████████████████████████████████████████████] 100.0% ...\tIteration: 49\tError: 154\tSolution not found\n",
    "Testing parameters: n_generations=50, n_individuals=100, n_survivors=50, n_mutations=125, n_crossovers=5\n",
    "[██████████████████████████████████████████████████] 100.0% ...\tIteration: 49\tError: 152\tSolution not found\n",
    "Testing parameters: n_generations=50, n_individuals=100, n_survivors=50, n_mutations=125, n_crossovers=10\n",
    "[██████████████████████████████████████████████████] 100.0% ...\tIteration: 49\tError: 154\tSolution not found\n",
    "Testing parameters: n_generations=50, n_individuals=100, n_survivors=50, n_mutations=125, n_crossovers=15\n",
    "[██████████████████████████████████████████████████] 100.0% ...\tIteration: 49\tError: 160\tSolution not found\n",
    "Testing parameters: n_generations=50, n_individuals=100, n_survivors=50, n_mutations=125, n_crossovers=30\n",
    "[██████████████████████████████████████████████████] 100.0% ...\tIteration: 49\tError: 156\tSolution not found\n",
    "Testing parameters: n_generations=50, n_individuals=100, n_survivors=50, n_mutations=125, n_crossovers=75\n",
    "[██████████████████████████████████████████████████] 100.0% ...\tIteration: 49\tError: 153\tSolution not found\n",
    "Testing parameters: n_generations=50, n_individuals=100, n_survivors=50, n_mutations=150, n_crossovers=5\n",
    "[██████████████████████████████████████████████████] 100.0% ...\tIteration: 49\tError: 155\tSolution not found\n",
    "Testing parameters: n_generations=50, n_individuals=100, n_survivors=50, n_mutations=150, n_crossovers=10\n",
    "[██████████████████████████████████████████████████] 100.0% ...\tIteration: 49\tError: 149\tSolution not found\n",
    "Testing parameters: n_generations=50, n_individuals=100, n_survivors=50, n_mutations=150, n_crossovers=15\n",
    "[██████████████████████████████████████████████████] 100.0% ...\tIteration: 49\tError: 163\tSolution not found\n",
    "Testing parameters: n_generations=50, n_individuals=100, n_survivors=50, n_mutations=150, n_crossovers=30\n",
    "[██████████████████████████████████████████████████] 100.0% ...\tIteration: 49\tError: 162\tSolution not found\n",
    "Testing parameters: n_generations=50, n_individuals=100, n_survivors=50, n_mutations=150, n_crossovers=75\n",
    "[██████████████████████████████████████████████████] 100.0% ...\tIteration: 49\tError: 160\tSolution not found\n",
    "Testing parameters: n_generations=50, n_individuals=100, n_survivors=75, n_mutations=5, n_crossovers=5\n",
    "[██████████████████████████████████████████████████] 100.0% ...\tIteration: 49\tError: 122\tSolution not found\n",
    "Testing parameters: n_generations=50, n_individuals=100, n_survivors=75, n_mutations=5, n_crossovers=10\n",
    "[██████████████████████████████████████████████████] 100.0% ...\tIteration: 49\tError: 128\tSolution not found\n",
    "Testing parameters: n_generations=50, n_individuals=100, n_survivors=75, n_mutations=5, n_crossovers=15\n",
    "[██████████████████████████████████████████████████] 100.0% ...\tIteration: 49\tError: 134\tSolution not found\n",
    "Testing parameters: n_generations=50, n_individuals=100, n_survivors=75, n_mutations=5, n_crossovers=30\n",
    "[██████████████████████████████████████████████████] 100.0% ...\tIteration: 49\tError: 136\tSolution not found\n",
    "Testing parameters: n_generations=50, n_individuals=100, n_survivors=75, n_mutations=5, n_crossovers=75\n",
    "[██████████████████████████████████████████████████] 100.0% ...\tIteration: 49\tError: 138\tSolution not found\n",
    "Testing parameters: n_generations=50, n_individuals=100, n_survivors=75, n_mutations=10, n_crossovers=5\n",
    "[██████████████████████████████████████████████████] 100.0% ...\tIteration: 49\tError: 131\tSolution not found\n",
    "Testing parameters: n_generations=50, n_individuals=100, n_survivors=75, n_mutations=10, n_crossovers=10\n",
    "[██████████████████████████████████████████████████] 100.0% ...\tIteration: 49\tError: 134\tSolution not found\n",
    "Testing parameters: n_generations=50, n_individuals=100, n_survivors=75, n_mutations=10, n_crossovers=15\n",
    "[██████████████████████████████████████████████████] 100.0% ...\tIteration: 49\tError: 136\tSolution not found\n",
    "Testing parameters: n_generations=50, n_individuals=100, n_survivors=75, n_mutations=10, n_crossovers=30\n",
    "[██████████████████████████████████████████████████] 100.0% ...\tIteration: 49\tError: 137\tSolution not found\n",
    "Testing parameters: n_generations=50, n_individuals=100, n_survivors=75, n_mutations=10, n_crossovers=75\n",
    "[██████████████████████████████████████████████████] 100.0% ...\tIteration: 49\tError: 140\tSolution not found\n",
    "Testing parameters: n_generations=50, n_individuals=100, n_survivors=75, n_mutations=15, n_crossovers=5\n",
    "[██████████████████████████████████████████████████] 100.0% ...\tIteration: 49\tError: 133\tSolution not found\n",
    "Testing parameters: n_generations=50, n_individuals=100, n_survivors=75, n_mutations=15, n_crossovers=10\n",
    "[██████████████████████████████████████████████████] 100.0% ...\tIteration: 49\tError: 134\tSolution not found\n",
    "Testing parameters: n_generations=50, n_individuals=100, n_survivors=75, n_mutations=15, n_crossovers=15\n",
    "[██████████████████████████████████████████████████] 100.0% ...\tIteration: 49\tError: 140\tSolution not found\n",
    "Testing parameters: n_generations=50, n_individuals=100, n_survivors=75, n_mutations=15, n_crossovers=30\n",
    "[██████████████████████████████████████████████████] 100.0% ...\tIteration: 49\tError: 138\tSolution not found\n",
    "Testing parameters: n_generations=50, n_individuals=100, n_survivors=75, n_mutations=15, n_crossovers=75\n",
    "[██████████████████████████████████████████████████] 100.0% ...\tIteration: 49\tError: 142\tSolution not found\n",
    "Testing parameters: n_generations=50, n_individuals=100, n_survivors=75, n_mutations=20, n_crossovers=5\n",
    "[██████████████████████████████████████████████████] 100.0% ...\tIteration: 49\tError: 130\tSolution not found\n",
    "Testing parameters: n_generations=50, n_individuals=100, n_survivors=75, n_mutations=20, n_crossovers=10\n",
    "[██████████████████████████████████████████████████] 100.0% ...\tIteration: 49\tError: 145\tSolution not found\n",
    "Testing parameters: n_generations=50, n_individuals=100, n_survivors=75, n_mutations=20, n_crossovers=15\n",
    "[██████████████████████████████████████████████████] 100.0% ...\tIteration: 49\tError: 142\tSolution not found\n",
    "Testing parameters: n_generations=50, n_individuals=100, n_survivors=75, n_mutations=20, n_crossovers=30\n",
    "[██████████████████████████████████████████████████] 100.0% ...\tIteration: 49\tError: 141\tSolution not found\n",
    "Testing parameters: n_generations=50, n_individuals=100, n_survivors=75, n_mutations=20, n_crossovers=75\n",
    "[██████████████████████████████████████████████████] 100.0% ...\tIteration: 49\tError: 148\tSolution not found\n",
    "Testing parameters: n_generations=50, n_individuals=100, n_survivors=75, n_mutations=30, n_crossovers=5\n",
    "[██████████████████████████████████████████████████] 100.0% ...\tIteration: 49\tError: 141\tSolution not found\n",
    "Testing parameters: n_generations=50, n_individuals=100, n_survivors=75, n_mutations=30, n_crossovers=10\n",
    "[██████████████████████████████████████████████████] 100.0% ...\tIteration: 49\tError: 148\tSolution not found\n",
    "Testing parameters: n_generations=50, n_individuals=100, n_survivors=75, n_mutations=30, n_crossovers=15\n",
    "[██████████████████████████████████████████████████] 100.0% ...\tIteration: 49\tError: 143\tSolution not found\n",
    "Testing parameters: n_generations=50, n_individuals=100, n_survivors=75, n_mutations=30, n_crossovers=30\n",
    "[██████████████████████████████████████████████████] 100.0% ...\tIteration: 49\tError: 150\tSolution not found\n",
    "Testing parameters: n_generations=50, n_individuals=100, n_survivors=75, n_mutations=30, n_crossovers=75\n",
    "[██████████████████████████████████████████████████] 100.0% ...\tIteration: 49\tError: 147\tSolution not found\n",
    "Testing parameters: n_generations=50, n_individuals=100, n_survivors=75, n_mutations=50, n_crossovers=5\n",
    "[██████████████████████████████████████████████████] 100.0% ...\tIteration: 49\tError: 146\tSolution not found\n",
    "Testing parameters: n_generations=50, n_individuals=100, n_survivors=75, n_mutations=50, n_crossovers=10\n",
    "[██████████████████████████████████████████████████] 100.0% ...\tIteration: 49\tError: 151\tSolution not found\n",
    "Testing parameters: n_generations=50, n_individuals=100, n_survivors=75, n_mutations=50, n_crossovers=15\n",
    "[██████████████████████████████████████████████████] 100.0% ...\tIteration: 49\tError: 146\tSolution not found\n",
    "Testing parameters: n_generations=50, n_individuals=100, n_survivors=75, n_mutations=50, n_crossovers=30\n",
    "[██████████████████████████████████████████████████] 100.0% ...\tIteration: 49\tError: 147\tSolution not found\n",
    "Testing parameters: n_generations=50, n_individuals=100, n_survivors=75, n_mutations=50, n_crossovers=75\n",
    "[██████████████████████████████████████████████████] 100.0% ...\tIteration: 49\tError: 152\tSolution not found\n",
    "Testing parameters: n_generations=50, n_individuals=100, n_survivors=75, n_mutations=75, n_crossovers=5\n",
    "[██████████████████████████████████████████████████] 100.0% ...\tIteration: 49\tError: 154\tSolution not found\n",
    "Testing parameters: n_generations=50, n_individuals=100, n_survivors=75, n_mutations=75, n_crossovers=10\n",
    "[██████████████████████████████████████████████████] 100.0% ...\tIteration: 49\tError: 148\tSolution not found\n",
    "Testing parameters: n_generations=50, n_individuals=100, n_survivors=75, n_mutations=75, n_crossovers=15\n",
    "[██████████████████████████████████████████████████] 100.0% ...\tIteration: 49\tError: 156\tSolution not found\n",
    "Testing parameters: n_generations=50, n_individuals=100, n_survivors=75, n_mutations=75, n_crossovers=30\n",
    "[██████████████████████████████████████████████████] 100.0% ...\tIteration: 49\tError: 159\tSolution not found\n",
    "Testing parameters: n_generations=50, n_individuals=100, n_survivors=75, n_mutations=75, n_crossovers=75\n",
    "[██████████████████████████████████████████████████] 100.0% ...\tIteration: 49\tError: 154\tSolution not found\n",
    "Testing parameters: n_generations=50, n_individuals=100, n_survivors=75, n_mutations=100, n_crossovers=5\n",
    "[██████████████████████████████████████████████████] 100.0% ...\tIteration: 49\tError: 159\tSolution not found\n",
    "Testing parameters: n_generations=50, n_individuals=100, n_survivors=75, n_mutations=100, n_crossovers=10\n",
    "[██████████████████████████████████████████████████] 100.0% ...\tIteration: 49\tError: 159\tSolution not found\n",
    "Testing parameters: n_generations=50, n_individuals=100, n_survivors=75, n_mutations=100, n_crossovers=15\n",
    "[██████████████████████████████████████████████████] 100.0% ...\tIteration: 49\tError: 151\tSolution not found\n",
    "Testing parameters: n_generations=50, n_individuals=100, n_survivors=75, n_mutations=100, n_crossovers=30\n",
    "[██████████████████████████████████████████████████] 100.0% ...\tIteration: 49\tError: 158\tSolution not found\n",
    "Testing parameters: n_generations=50, n_individuals=100, n_survivors=75, n_mutations=100, n_crossovers=75\n",
    "[██████████████████████████████████████████████████] 100.0% ...\tIteration: 49\tError: 161\tSolution not found\n",
    "Testing parameters: n_generations=50, n_individuals=100, n_survivors=75, n_mutations=125, n_crossovers=5\n",
    "[██████████████████████████████████████████████████] 100.0% ...\tIteration: 49\tError: 153\tSolution not found\n",
    "Testing parameters: n_generations=50, n_individuals=100, n_survivors=75, n_mutations=125, n_crossovers=10\n",
    "[██████████████████████████████████████████████████] 100.0% ...\tIteration: 49\tError: 156\tSolution not found\n",
    "Testing parameters: n_generations=50, n_individuals=100, n_survivors=75, n_mutations=125, n_crossovers=15\n",
    "[██████████████████████████████████████████████████] 100.0% ...\tIteration: 49\tError: 159\tSolution not found\n",
    "Testing parameters: n_generations=50, n_individuals=100, n_survivors=75, n_mutations=125, n_crossovers=30\n",
    "[██████████████████████████████████████████████████] 100.0% ...\tIteration: 49\tError: 158\tSolution not found\n",
    "Testing parameters: n_generations=50, n_individuals=100, n_survivors=75, n_mutations=125, n_crossovers=75\n",
    "[██████████████████████████████████████████████████] 100.0% ...\tIteration: 49\tError: 158\tSolution not found\n",
    "Testing parameters: n_generations=50, n_individuals=100, n_survivors=75, n_mutations=150, n_crossovers=5\n",
    "[██████████████████████████████████████████████████] 100.0% ...\tIteration: 49\tError: 161\tSolution not found\n",
    "Testing parameters: n_generations=50, n_individuals=100, n_survivors=75, n_mutations=150, n_crossovers=10\n",
    "[██████████████████████████████████████████████████] 100.0% ...\tIteration: 49\tError: 158\tSolution not found\n",
    "Testing parameters: n_generations=50, n_individuals=100, n_survivors=75, n_mutations=150, n_crossovers=15\n",
    "[██████████████████████████████████████████████████] 100.0% ...\tIteration: 49\tError: 153\tSolution not found\n",
    "Testing parameters: n_generations=50, n_individuals=100, n_survivors=75, n_mutations=150, n_crossovers=30\n",
    "[██████████████████████████████████████████████████] 100.0% ...\tIteration: 49\tError: 160\tSolution not found\n",
    "Testing parameters: n_generations=50, n_individuals=100, n_survivors=75, n_mutations=150, n_crossovers=75\n",
    "[██████████████████████████████████████████████████] 100.0% ...\tIteration: 49\tError: 160\tSolution not found\n",
    "\"\"\""
   ]
  },
  {
   "cell_type": "code",
   "execution_count": null,
   "metadata": {},
   "outputs": [
    {
     "data": {
      "text/plain": [
       "array([3, 6, 9])"
      ]
     },
     "execution_count": 5,
     "metadata": {},
     "output_type": "execute_result"
    }
   ],
   "source": [
    "np.array([[1, 2, 3], [4, 5, 6], [7, 8, 9]])[:, 2]"
   ]
  },
  {
   "cell_type": "code",
   "execution_count": null,
   "metadata": {},
   "outputs": [],
   "source": []
  },
  {
   "cell_type": "code",
   "execution_count": null,
   "metadata": {},
   "outputs": [
    {
     "name": "stdout",
     "output_type": "stream",
     "text": [
      "['n_crossovers=5', 'n_crossovers=5', 'n_crossovers=5', 'n_crossovers=5', 'n_crossovers=5', 'n_crossovers=5', 'n_crossovers=5', 'n_crossovers=5', 'n_crossovers=5', 'n_crossovers=5', 'n_crossovers=5', 'n_crossovers=5', 'n_crossovers=5', 'n_crossovers=5', 'n_crossovers=5', 'n_crossovers=5', 'n_crossovers=5', 'n_crossovers=5', 'n_crossovers=5', 'n_crossovers=5', 'n_crossovers=5', 'n_crossovers=5', 'n_crossovers=5', 'n_crossovers=5', 'n_crossovers=5', 'n_crossovers=5', 'n_crossovers=5', 'n_crossovers=5', 'n_crossovers=5', 'n_crossovers=5', 'n_crossovers=5', 'n_crossovers=5', 'n_crossovers=5', 'n_crossovers=5', 'n_crossovers=5', 'n_crossovers=5', 'n_crossovers=5', 'n_crossovers=5', 'n_crossovers=5', 'n_crossovers=5']\n"
     ]
    },
    {
     "data": {
      "image/png": "[encoded data removed]",
      "text/plain": [
       "<Figure size 432x288 with 1 Axes>"
      ]
     },
     "metadata": {
      "needs_background": "light"
     },
     "output_type": "display_data"
    },
    {
     "data": {
      "image/png": "[encoded data removed]",
      "text/plain": [
       "<Figure size 432x288 with 1 Axes>"
      ]
     },
     "metadata": {
      "needs_background": "light"
     },
     "output_type": "display_data"
    },
    {
     "name": "stdout",
     "output_type": "stream",
     "text": [
      "n_generations=50,\n",
      "n_individuals=100,\n",
      "n_survivors=30,\n",
      "n_mutations=5,\n",
      "n_crossovers=10\n"
     ]
    }
   ],
   "source": [
    "output_list = output.split()\n",
    "# 5-9 are the parameters\n",
    "parameter=9\n",
    "only = 0, 5\n",
    "print(output_list[parameter::17][only[0]::only[1]])\n",
    "plt.plot(output_list[16::17][only[0]::only[1]])\n",
    "plt.show()\n",
    "plt.plot(output_list[16::17])\n",
    "plt.show()\n",
    "min_iteration = np.argmin(output_list[16::17])\n",
    "print(output_list[5::17][min_iteration])\n",
    "print(output_list[6::17][min_iteration])\n",
    "print(output_list[7::17][min_iteration])\n",
    "print(output_list[8::17][min_iteration])\n",
    "print(output_list[9::17][min_iteration])"
   ]
  }
 ],
 "metadata": {
  "kernelspec": {
   "display_name": "Python 3.10.5 ('omfe')",
   "language": "python",
   "name": "python3"
  },
  "language_info": {
   "codemirror_mode": {
    "name": "ipython",
    "version": 3
   },
   "file_extension": ".py",
   "mimetype": "text/x-python",
   "name": "python",
   "nbconvert_exporter": "python",
   "pygments_lexer": "ipython3",
   "version": "3.10.5"
  },
  "orig_nbformat": 4,
  "vscode": {
   "interpreter": {
    "hash": "3234e1fa89af1b54fad5721640a69eec0aaf78b1f068c7006e5aaf33d3c53555"
   }
  }
 },
 "nbformat": 4,
 "nbformat_minor": 2
}
